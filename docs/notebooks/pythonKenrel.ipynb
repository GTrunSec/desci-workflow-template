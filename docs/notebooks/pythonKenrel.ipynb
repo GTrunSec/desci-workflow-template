{
 "cells": [
  {
   "cell_type": "code",
   "execution_count": 1,
   "id": "465a1d2c-6758-4984-8911-f9aed09cf151",
   "metadata": {},
   "outputs": [
    {
     "data": {
      "text/html": [
       "<pre style=\"white-space:pre;overflow-x:auto;line-height:normal;font-family:Menlo,'DejaVu Sans Mono',consolas,'Courier New',monospace\">01:32:47.398 | <span style=\"color: #008080; text-decoration-color: #008080\">INFO</span>    | prefect.engine - Created flow run<span style=\"color: #800080; text-decoration-color: #800080\"> 'spiffy-narwhal'</span> for flow<span style=\"color: #800080; text-decoration-color: #800080; font-weight: bold\"> 'my-flow'</span>\n",
       "</pre>\n"
      ],
      "text/plain": [
       "01:32:47.398 | \u001b[36mINFO\u001b[0m    | prefect.engine - Created flow run\u001b[35m 'spiffy-narwhal'\u001b[0m for flow\u001b[1;35m 'my-flow'\u001b[0m\n"
      ]
     },
     "metadata": {},
     "output_type": "display_data"
    },
    {
     "data": {
      "text/html": [
       "<pre style=\"white-space:pre;overflow-x:auto;line-height:normal;font-family:Menlo,'DejaVu Sans Mono',consolas,'Courier New',monospace\">01:32:47.603 | <span style=\"color: #008080; text-decoration-color: #008080\">INFO</span>    | Flow run<span style=\"color: #800080; text-decoration-color: #800080\"> 'spiffy-narwhal'</span> - Created task run 'print_values-0' for task 'print_values'\n",
       "</pre>\n"
      ],
      "text/plain": [
       "01:32:47.603 | \u001b[36mINFO\u001b[0m    | Flow run\u001b[35m 'spiffy-narwhal'\u001b[0m - Created task run 'print_values-0' for task 'print_values'\n"
      ]
     },
     "metadata": {},
     "output_type": "display_data"
    },
    {
     "data": {
      "text/html": [
       "<pre style=\"white-space:pre;overflow-x:auto;line-height:normal;font-family:Menlo,'DejaVu Sans Mono',consolas,'Courier New',monospace\">01:32:47.605 | <span style=\"color: #008080; text-decoration-color: #008080\">INFO</span>    | Flow run<span style=\"color: #800080; text-decoration-color: #800080\"> 'spiffy-narwhal'</span> - Executing 'print_values-0' immediately...\n",
       "</pre>\n"
      ],
      "text/plain": [
       "01:32:47.605 | \u001b[36mINFO\u001b[0m    | Flow run\u001b[35m 'spiffy-narwhal'\u001b[0m - Executing 'print_values-0' immediately...\n"
      ]
     },
     "metadata": {},
     "output_type": "display_data"
    },
    {
     "name": "stdout",
     "output_type": "stream",
     "text": [
      "AAAA\r"
     ]
    },
    {
     "data": {
      "text/html": [
       "<pre style=\"white-space:pre;overflow-x:auto;line-height:normal;font-family:Menlo,'DejaVu Sans Mono',consolas,'Courier New',monospace\">01:32:55.191 | <span style=\"color: #008080; text-decoration-color: #008080\">INFO</span>    | Task run 'print_values-0' - Finished in state <span style=\"color: #008000; text-decoration-color: #008000\">Completed</span>()\n",
       "</pre>\n"
      ],
      "text/plain": [
       "01:32:55.191 | \u001b[36mINFO\u001b[0m    | Task run 'print_values-0' - Finished in state \u001b[32mCompleted\u001b[0m()\n"
      ]
     },
     "metadata": {},
     "output_type": "display_data"
    },
    {
     "data": {
      "text/html": [
       "<pre style=\"white-space:pre;overflow-x:auto;line-height:normal;font-family:Menlo,'DejaVu Sans Mono',consolas,'Courier New',monospace\">01:32:55.224 | <span style=\"color: #008080; text-decoration-color: #008080\">INFO</span>    | Flow run<span style=\"color: #800080; text-decoration-color: #800080\"> 'spiffy-narwhal'</span> - Created task run 'print_values-1' for task 'print_values'\n",
       "</pre>\n"
      ],
      "text/plain": [
       "01:32:55.224 | \u001b[36mINFO\u001b[0m    | Flow run\u001b[35m 'spiffy-narwhal'\u001b[0m - Created task run 'print_values-1' for task 'print_values'\n"
      ]
     },
     "metadata": {},
     "output_type": "display_data"
    },
    {
     "data": {
      "text/html": [
       "<pre style=\"white-space:pre;overflow-x:auto;line-height:normal;font-family:Menlo,'DejaVu Sans Mono',consolas,'Courier New',monospace\">01:32:55.226 | <span style=\"color: #008080; text-decoration-color: #008080\">INFO</span>    | Flow run<span style=\"color: #800080; text-decoration-color: #800080\"> 'spiffy-narwhal'</span> - Executing 'print_values-1' immediately...\n",
       "</pre>\n"
      ],
      "text/plain": [
       "01:32:55.226 | \u001b[36mINFO\u001b[0m    | Flow run\u001b[35m 'spiffy-narwhal'\u001b[0m - Executing 'print_values-1' immediately...\n"
      ]
     },
     "metadata": {},
     "output_type": "display_data"
    },
    {
     "name": "stdout",
     "output_type": "stream",
     "text": [
      "BBBB\r"
     ]
    },
    {
     "data": {
      "text/html": [
       "<pre style=\"white-space:pre;overflow-x:auto;line-height:normal;font-family:Menlo,'DejaVu Sans Mono',consolas,'Courier New',monospace\">01:33:00.303 | <span style=\"color: #008080; text-decoration-color: #008080\">INFO</span>    | Task run 'print_values-1' - Finished in state <span style=\"color: #008000; text-decoration-color: #008000\">Completed</span>()\n",
       "</pre>\n"
      ],
      "text/plain": [
       "01:33:00.303 | \u001b[36mINFO\u001b[0m    | Task run 'print_values-1' - Finished in state \u001b[32mCompleted\u001b[0m()\n"
      ]
     },
     "metadata": {},
     "output_type": "display_data"
    },
    {
     "data": {
      "text/html": [
       "<pre style=\"white-space:pre;overflow-x:auto;line-height:normal;font-family:Menlo,'DejaVu Sans Mono',consolas,'Courier New',monospace\">01:33:00.337 | <span style=\"color: #008080; text-decoration-color: #008080\">INFO</span>    | Flow run<span style=\"color: #800080; text-decoration-color: #800080\"> 'spiffy-narwhal'</span> - Finished in state <span style=\"color: #008000; text-decoration-color: #008000\">Completed</span>('All states completed.')\n",
       "</pre>\n"
      ],
      "text/plain": [
       "01:33:00.337 | \u001b[36mINFO\u001b[0m    | Flow run\u001b[35m 'spiffy-narwhal'\u001b[0m - Finished in state \u001b[32mCompleted\u001b[0m('All states completed.')\n"
      ]
     },
     "metadata": {},
     "output_type": "display_data"
    }
   ],
   "source": [
    "import time\n",
    "from prefect import task, flow\n",
    "from prefect.task_runners import SequentialTaskRunner\n",
    "\n",
    "@task\n",
    "def print_values(values):\n",
    "    for value in values:\n",
    "        time.sleep(0.5)\n",
    "        print(value, end=\"\\r\")\n",
    "\n",
    "@flow(task_runner=SequentialTaskRunner())\n",
    "def my_flow():\n",
    "    print_values.submit([\"AAAA\"] * 15)\n",
    "    print_values.submit([\"BBBB\"] * 10)\n",
    "\n",
    "if __name__ == \"__main__\":\n",
    "    my_flow()"
   ]
  },
  {
   "cell_type": "code",
   "execution_count": null,
   "id": "b01f59cc-b2e7-4602-8652-a73e7a781f4c",
   "metadata": {},
   "outputs": [],
   "source": []
  }
 ],
 "metadata": {
  "kernelspec": {
   "display_name": "python-data-science kernel",
   "language": "python",
   "name": "python-data-science"
  },
  "language_info": {
   "codemirror_mode": {
    "name": "ipython",
    "version": 3
   },
   "file_extension": ".py",
   "mimetype": "text/x-python",
   "name": "python",
   "nbconvert_exporter": "python",
   "pygments_lexer": "ipython3",
   "version": "3.10.9"
  }
 },
 "nbformat": 4,
 "nbformat_minor": 5
}
